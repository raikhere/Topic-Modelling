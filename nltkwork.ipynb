{
 "cells": [
  {
   "cell_type": "code",
   "execution_count": 1,
   "id": "1d5946d8-f833-4ca8-8da9-8119df1ff19d",
   "metadata": {},
   "outputs": [
    {
     "name": "stderr",
     "output_type": "stream",
     "text": [
      "/home/parth/miniconda3/lib/python3.9/site-packages/scipy/__init__.py:146: UserWarning: A NumPy version >=1.16.5 and <1.23.0 is required for this version of SciPy (detected version 1.23.1\n",
      "  warnings.warn(f\"A NumPy version >={np_minversion} and <{np_maxversion}\"\n"
     ]
    }
   ],
   "source": [
    "import nltk\n",
    "from nltk import word_tokenize\n",
    "import random\n",
    "from nltk.corpus import movie_reviews\n",
    "import pickle"
   ]
  },
  {
   "cell_type": "code",
   "execution_count": 2,
   "id": "bf60c3ab-6ff9-46bf-9a21-4faa6c9e6318",
   "metadata": {},
   "outputs": [],
   "source": [
    "documents = [(list(movie_reviews.words(fileid)), category) \n",
    "             for category in movie_reviews.categories() \n",
    "             for fileid in movie_reviews.fileids(category)]"
   ]
  },
  {
   "cell_type": "code",
   "execution_count": 3,
   "id": "29d8dd72-da13-461b-9db6-99b35603d1d0",
   "metadata": {},
   "outputs": [],
   "source": [
    "random.shuffle(documents)"
   ]
  },
  {
   "cell_type": "code",
   "execution_count": 4,
   "id": "2c3e5a88-6cd2-4d48-92f3-34e5997a23a3",
   "metadata": {},
   "outputs": [
    {
     "data": {
      "text/plain": [
       "'neg'"
      ]
     },
     "execution_count": 4,
     "metadata": {},
     "output_type": "execute_result"
    }
   ],
   "source": [
    "documents[0][1]"
   ]
  },
  {
   "cell_type": "code",
   "execution_count": 5,
   "id": "d6f2ff58-8ee4-42be-bee8-58f0dd6a524b",
   "metadata": {},
   "outputs": [],
   "source": [
    "all_words = [w.lower() for w in movie_reviews.words()]"
   ]
  },
  {
   "cell_type": "code",
   "execution_count": 6,
   "id": "4e7ecfb6-7ec4-4a1b-a4dc-e03eb1848c08",
   "metadata": {},
   "outputs": [
    {
     "name": "stdout",
     "output_type": "stream",
     "text": [
      "1583820\n",
      "39768\n"
     ]
    }
   ],
   "source": [
    "print(len(all_words))\n",
    "all_words = nltk.FreqDist(all_words)\n",
    "print(len(all_words))"
   ]
  },
  {
   "cell_type": "code",
   "execution_count": 7,
   "id": "24720426-1a8b-4a5c-baa3-02f0efe4918b",
   "metadata": {},
   "outputs": [
    {
     "data": {
      "text/plain": [
       "[(',', 77717),\n",
       " ('the', 76529),\n",
       " ('.', 65876),\n",
       " ('a', 38106),\n",
       " ('and', 35576),\n",
       " ('of', 34123),\n",
       " ('to', 31937),\n",
       " (\"'\", 30585),\n",
       " ('is', 25195),\n",
       " ('in', 21822),\n",
       " ('s', 18513),\n",
       " ('\"', 17612),\n",
       " ('it', 16107),\n",
       " ('that', 15924),\n",
       " ('-', 15595)]"
      ]
     },
     "execution_count": 7,
     "metadata": {},
     "output_type": "execute_result"
    }
   ],
   "source": [
    "all_words.most_common(15)"
   ]
  },
  {
   "cell_type": "code",
   "execution_count": 8,
   "id": "2132e6df-0dd1-4d0d-8db8-f204ed87c1f2",
   "metadata": {},
   "outputs": [],
   "source": [
    "word_features = list(all_words.keys())[:3000]"
   ]
  },
  {
   "cell_type": "code",
   "execution_count": 9,
   "id": "360ac932-d899-42e5-b354-9643a9d305ce",
   "metadata": {},
   "outputs": [],
   "source": [
    "def find_features(document):\n",
    "    words = set(document)\n",
    "    features = {}\n",
    "    for w in word_features:\n",
    "        features[w] = (w in words)\n",
    "    \n",
    "    return features"
   ]
  },
  {
   "cell_type": "code",
   "execution_count": 10,
   "id": "0a6ce20b-9702-4ce5-a998-dc770cef2678",
   "metadata": {},
   "outputs": [],
   "source": [
    "find_features(movie_reviews.words(\"neg/cv000_29416.txt\"))\n",
    "featureset = [(find_features(rev), category) for (rev, category) in documents]"
   ]
  },
  {
   "cell_type": "code",
   "execution_count": 11,
   "id": "6a388c7e-f969-4317-89c0-b505bd6acbad",
   "metadata": {},
   "outputs": [],
   "source": [
    "training_set = featureset[:1900]\n",
    "testing_set = featureset[1900:]"
   ]
  },
  {
   "cell_type": "code",
   "execution_count": 12,
   "id": "842fed4d-f75b-4429-9c4f-113c3cdffde8",
   "metadata": {},
   "outputs": [],
   "source": [
    "classifier = nltk.NaiveBayesClassifier.train(training_set)"
   ]
  },
  {
   "cell_type": "code",
   "execution_count": 13,
   "id": "1eb36be8-4044-4c08-bc60-aeee8fb03abb",
   "metadata": {},
   "outputs": [
    {
     "name": "stdout",
     "output_type": "stream",
     "text": [
      "Accuracy:  83.0\n"
     ]
    }
   ],
   "source": [
    "print(\"Accuracy: \",nltk.classify.accuracy(classifier, testing_set)*100)"
   ]
  },
  {
   "cell_type": "code",
   "execution_count": 14,
   "id": "1784d3bb-a3e2-4e37-9ff8-661f4b71399f",
   "metadata": {},
   "outputs": [
    {
     "name": "stdout",
     "output_type": "stream",
     "text": [
      "Most Informative Features\n",
      "                   sucks = True              neg : pos    =     16.4 : 1.0\n",
      "             silverstone = True              neg : pos    =      7.7 : 1.0\n",
      "           unimaginative = True              neg : pos    =      7.7 : 1.0\n",
      "                 frances = True              pos : neg    =      7.6 : 1.0\n",
      "              schumacher = True              neg : pos    =      7.4 : 1.0\n",
      "                 idiotic = True              neg : pos    =      7.0 : 1.0\n",
      "               atrocious = True              neg : pos    =      6.6 : 1.0\n",
      "                  turkey = True              neg : pos    =      6.6 : 1.0\n",
      "                    mena = True              neg : pos    =      6.4 : 1.0\n",
      "               pregnancy = True              neg : pos    =      6.4 : 1.0\n",
      "                  shoddy = True              neg : pos    =      6.4 : 1.0\n",
      "                  suvari = True              neg : pos    =      6.4 : 1.0\n",
      "                 cunning = True              pos : neg    =      6.3 : 1.0\n",
      "                obstacle = True              pos : neg    =      6.3 : 1.0\n",
      "                   waste = True              neg : pos    =      6.2 : 1.0\n"
     ]
    }
   ],
   "source": [
    "classifier.show_most_informative_features(15)"
   ]
  },
  {
   "cell_type": "code",
   "execution_count": 15,
   "id": "3cbfd495-7c06-452f-a012-c200429ba098",
   "metadata": {},
   "outputs": [],
   "source": [
    "save_classifier = open(\"models/naivebayes.pickle\", mode=\"wb\")\n",
    "pickle.dump(classifier, save_classifier)\n",
    "save_classifier.close()"
   ]
  },
  {
   "cell_type": "code",
   "execution_count": 16,
   "id": "641cef2a-6e7e-439a-ac39-f1d8859418a5",
   "metadata": {},
   "outputs": [
    {
     "name": "stdout",
     "output_type": "stream",
     "text": [
      "Accuracy:  83.0\n"
     ]
    }
   ],
   "source": [
    "classifier_f = open(\"models/naivebayes.pickle\", \"rb\")\n",
    "classifier = pickle.load(classifier_f)\n",
    "print(\"Accuracy: \",nltk.classify.accuracy(classifier, testing_set)*100)"
   ]
  },
  {
   "cell_type": "code",
   "execution_count": 17,
   "id": "7f4f04e6-ec88-49ab-b760-600a53b8b3c0",
   "metadata": {},
   "outputs": [],
   "source": [
    "from nltk.classify import SklearnClassifier\n",
    "from sklearn.naive_bayes import MultinomialNB, GaussianNB, BernoulliNB\n"
   ]
  },
  {
   "cell_type": "code",
   "execution_count": 18,
   "id": "0851e35f-12e5-44fe-a0de-d9a926c17a42",
   "metadata": {},
   "outputs": [
    {
     "name": "stdout",
     "output_type": "stream",
     "text": [
      "Accuracy:  82.0\n"
     ]
    }
   ],
   "source": [
    "MNB_classifier = SklearnClassifier(MultinomialNB())\n",
    "MNB_classifier.train(training_set)\n",
    "print(\"Accuracy: \", nltk.classify.accuracy(MNB_classifier, testing_set) * 100)"
   ]
  },
  {
   "cell_type": "code",
   "execution_count": 19,
   "id": "532f4dee-692e-4bc7-ae07-8cc44d015081",
   "metadata": {},
   "outputs": [
    {
     "name": "stdout",
     "output_type": "stream",
     "text": [
      "Accuracy:  82.0\n"
     ]
    }
   ],
   "source": [
    "BernoulliNB_classifier = SklearnClassifier(BernoulliNB())\n",
    "BernoulliNB_classifier.train(training_set)\n",
    "print(\"Accuracy: \", nltk.classify.accuracy(BernoulliNB_classifier, testing_set) * 100)"
   ]
  },
  {
   "cell_type": "code",
   "execution_count": 20,
   "id": "f74284f7-f606-49c0-be7d-40190093b8f1",
   "metadata": {},
   "outputs": [],
   "source": [
    "from sklearn.linear_model import LogisticRegression, SGDClassifier\n",
    "from sklearn.svm import SVC, LinearSVC, NuSVC"
   ]
  },
  {
   "cell_type": "code",
   "execution_count": 21,
   "id": "312fcb71-920d-4ca6-bb6b-ab9d8ae431eb",
   "metadata": {},
   "outputs": [
    {
     "name": "stdout",
     "output_type": "stream",
     "text": [
      "Accuracy:  81.0\n"
     ]
    }
   ],
   "source": [
    "LogisticRegression_classifier = SklearnClassifier(LogisticRegression(max_iter=10000))\n",
    "LogisticRegression_classifier.train(training_set)\n",
    "print(\"Accuracy: \", nltk.classify.accuracy(LogisticRegression_classifier, testing_set) * 100)"
   ]
  },
  {
   "cell_type": "code",
   "execution_count": 22,
   "id": "5b09f0cd-4e2c-41fd-b64c-5f70916eb4f7",
   "metadata": {},
   "outputs": [
    {
     "data": {
      "text/plain": [
       "'\\nSGDClassifier_classifier = SklearnClassifier(SGDClassifier())\\nSGDClassifier_classifier.train(training_set)\\nprint(\"Accuracy: \", nltk.classify.accuracy(SGDClassifier_classifier, testing_set) * 100)\\n'"
      ]
     },
     "execution_count": 22,
     "metadata": {},
     "output_type": "execute_result"
    }
   ],
   "source": [
    "\"\"\"\n",
    "SGDClassifier_classifier = SklearnClassifier(SGDClassifier())\n",
    "SGDClassifier_classifier.train(training_set)\n",
    "print(\"Accuracy: \", nltk.classify.accuracy(SGDClassifier_classifier, testing_set) * 100)\n",
    "\"\"\""
   ]
  },
  {
   "cell_type": "code",
   "execution_count": 23,
   "id": "92b650d8-fccb-42bb-8993-1ae1d8993ffd",
   "metadata": {},
   "outputs": [
    {
     "name": "stdout",
     "output_type": "stream",
     "text": [
      "Accuracy:  83.0\n"
     ]
    }
   ],
   "source": [
    "SVC_classifier = SklearnClassifier(SVC())\n",
    "SVC_classifier.train(training_set)\n",
    "print(\"Accuracy: \", nltk.classify.accuracy(SVC_classifier, testing_set) * 100)"
   ]
  },
  {
   "cell_type": "code",
   "execution_count": 24,
   "id": "a9604da5-c56b-4bd3-b765-6bd9729ae7da",
   "metadata": {},
   "outputs": [
    {
     "name": "stdout",
     "output_type": "stream",
     "text": [
      "Accuracy:  80.0\n"
     ]
    }
   ],
   "source": [
    "LinearSVC_classifier = SklearnClassifier(LinearSVC())\n",
    "LinearSVC_classifier.train(training_set)\n",
    "print(\"Accuracy: \", nltk.classify.accuracy(LinearSVC_classifier, testing_set) * 100)"
   ]
  },
  {
   "cell_type": "code",
   "execution_count": 25,
   "id": "75435c56-c0c5-4e88-a3fc-9b5af6502963",
   "metadata": {},
   "outputs": [
    {
     "name": "stdout",
     "output_type": "stream",
     "text": [
      "Accuracy:  83.0\n"
     ]
    }
   ],
   "source": [
    "NuSVC_classifier = SklearnClassifier(NuSVC())\n",
    "NuSVC_classifier.train(training_set)\n",
    "print(\"Accuracy: \", nltk.classify.accuracy(NuSVC_classifier, testing_set) * 100)"
   ]
  },
  {
   "cell_type": "code",
   "execution_count": 26,
   "id": "ec27241e-799b-4c5e-a030-e94f676495b9",
   "metadata": {},
   "outputs": [],
   "source": [
    "from nltk.classify import ClassifierI\n",
    "from statistics import mode"
   ]
  },
  {
   "cell_type": "code",
   "execution_count": 27,
   "id": "b3a723a5-98d3-46fc-bb32-33363cccf2d5",
   "metadata": {},
   "outputs": [],
   "source": [
    "class VoteClassifier(ClassifierI):\n",
    "    def __init__(self, *classifiers):\n",
    "        self._classifiers = classifiers\n",
    "        \n",
    "    def classify(self, features):\n",
    "        votes = []\n",
    "        \n",
    "        for c in self._classifiers:\n",
    "            \n",
    "            v = c.classify(features)\n",
    "            votes.append(v)\n",
    "            \n",
    "        return mode(votes)\n",
    "    \n",
    "    def confidence(self, features):\n",
    "        votes = []\n",
    "        \n",
    "        for c in self._classifiers:\n",
    "            v = c.classify(features)\n",
    "            votes.append(v)\n",
    "            \n",
    "        choice_votes = votes.count(mode(votes))\n",
    "        conf = choice_votes/len(votes)\n",
    "        return conf\n",
    "        "
   ]
  },
  {
   "cell_type": "code",
   "execution_count": 28,
   "id": "def89495-bbc8-422f-a401-09f3314b17d5",
   "metadata": {},
   "outputs": [],
   "source": [
    "voted_classifier = VoteClassifier(classifier, MNB_classifier, BernoulliNB_classifier, LogisticRegression_classifier, \n",
    "                                    SVC_classifier, LinearSVC_classifier, NuSVC_classifier)"
   ]
  },
  {
   "cell_type": "code",
   "execution_count": 29,
   "id": "a5f96f30-817a-403e-ab75-ac6a6b121d59",
   "metadata": {},
   "outputs": [
    {
     "name": "stdout",
     "output_type": "stream",
     "text": [
      "neg 0.7142857142857143\n",
      "pos 1.0\n",
      "neg 1.0\n",
      "pos 1.0\n",
      "neg 1.0\n"
     ]
    }
   ],
   "source": [
    "print(voted_classifier.classify(testing_set[0][0]), voted_classifier.confidence(testing_set[0][0]))\n",
    "print(voted_classifier.classify(testing_set[1][0]), voted_classifier.confidence(testing_set[1][0]))\n",
    "print(voted_classifier.classify(testing_set[2][0]), voted_classifier.confidence(testing_set[2][0]))\n",
    "print(voted_classifier.classify(testing_set[3][0]), voted_classifier.confidence(testing_set[3][0]))\n",
    "print(voted_classifier.classify(testing_set[4][0]), voted_classifier.confidence(testing_set[4][0]))"
   ]
  },
  {
   "cell_type": "code",
   "execution_count": 30,
   "id": "446ad424-de62-4f5f-bf08-d831faec8da9",
   "metadata": {},
   "outputs": [
    {
     "name": "stdout",
     "output_type": "stream",
     "text": [
      "Accuracy:  0.85\n"
     ]
    }
   ],
   "source": [
    "print(\"Accuracy: \", nltk.classify.accuracy(voted_classifier, testing_set))"
   ]
  },
  {
   "cell_type": "code",
   "execution_count": 31,
   "id": "418e9c76-0eac-4352-9095-b9d048263920",
   "metadata": {},
   "outputs": [
    {
     "name": "stdout",
     "output_type": "stream",
     "text": [
      "neg\n",
      "pos\n",
      "pos\n",
      "pos\n",
      "neg\n"
     ]
    }
   ],
   "source": [
    "print(testing_set[0][1])\n",
    "print(testing_set[1][1])\n",
    "print(testing_set[2][1])\n",
    "print(testing_set[3][1])\n",
    "print(testing_set[4][1])"
   ]
  },
  {
   "cell_type": "code",
   "execution_count": 32,
   "id": "1e4a7fac-ca5d-44e9-b3d3-69427fc35376",
   "metadata": {},
   "outputs": [],
   "source": [
    "import io"
   ]
  },
  {
   "cell_type": "code",
   "execution_count": 33,
   "id": "c691ff4d-0b6d-479c-95d2-236bd760d9a0",
   "metadata": {},
   "outputs": [],
   "source": [
    "short_pos = open(\"short_reviews/positive.txt\",\"r\").read()\n",
    "short_neg = open(\"short_reviews/negative.txt\",\"r\").read()"
   ]
  },
  {
   "cell_type": "code",
   "execution_count": null,
   "id": "7006e576-0962-462f-a85e-2cf63689437d",
   "metadata": {},
   "outputs": [],
   "source": []
  },
  {
   "cell_type": "code",
   "execution_count": 34,
   "id": "39e204f0-fff0-49b8-a71f-64504f06ef27",
   "metadata": {},
   "outputs": [
    {
     "data": {
      "text/plain": [
       "10664"
      ]
     },
     "execution_count": 34,
     "metadata": {},
     "output_type": "execute_result"
    }
   ],
   "source": [
    "documents = []\n",
    "\n",
    "for i in short_pos.split(\"\\n\"):\n",
    "    documents.append((i,\"pos\"))\n",
    "    \n",
    "for i in short_neg.split(\"\\n\"):\n",
    "    documents.append((i,\"neg\"))\n",
    "    \n",
    "len(documents)"
   ]
  },
  {
   "cell_type": "code",
   "execution_count": 35,
   "id": "50bbd8c7-af6e-48ab-a561-30cc8c360bbb",
   "metadata": {},
   "outputs": [],
   "source": [
    "short_pos_words = word_tokenize(short_pos)\n",
    "short_neg_words = word_tokenize(short_neg)"
   ]
  },
  {
   "cell_type": "code",
   "execution_count": 36,
   "id": "a88e40a5-dc49-4f7c-9578-4ee8ec09ac00",
   "metadata": {},
   "outputs": [],
   "source": [
    "all_words = [i.lower() for i in short_pos_words]\n",
    "all_words = all_words + [i.lower() for i in short_neg_words]"
   ]
  },
  {
   "cell_type": "code",
   "execution_count": 37,
   "id": "7315cc16-bac0-4b87-886f-ba671f571bec",
   "metadata": {},
   "outputs": [],
   "source": [
    "all_words = nltk.FreqDist(all_words)"
   ]
  },
  {
   "cell_type": "code",
   "execution_count": 38,
   "id": "9129d2d8-5bf3-4def-8cf7-5ade3899d904",
   "metadata": {},
   "outputs": [],
   "source": [
    "word_features = list(all_words.keys())[:5000]"
   ]
  },
  {
   "cell_type": "code",
   "execution_count": 39,
   "id": "3db1f569-244c-438a-87d2-820f9eaea356",
   "metadata": {},
   "outputs": [
    {
     "data": {
      "text/plain": [
       "'rock'"
      ]
     },
     "execution_count": 39,
     "metadata": {},
     "output_type": "execute_result"
    }
   ],
   "source": [
    "word_features[1]"
   ]
  },
  {
   "cell_type": "code",
   "execution_count": 40,
   "id": "20f6cb45-feb8-4c60-ac95-0ae375fb367f",
   "metadata": {},
   "outputs": [],
   "source": [
    "def find_features(documents):\n",
    "    words = word_tokenize(documents)\n",
    "    features = {}\n",
    "    for i in words:\n",
    "        features[i] = (i in word_features)\n",
    "        \n",
    "    return features"
   ]
  },
  {
   "cell_type": "code",
   "execution_count": 41,
   "id": "46f09740-0fa9-4791-ab92-c9ab60fcdc90",
   "metadata": {},
   "outputs": [],
   "source": [
    "featureset = [(find_features(rev), category) for (rev, category) in documents]"
   ]
  },
  {
   "cell_type": "code",
   "execution_count": 42,
   "id": "e9516158-d951-49d2-87da-7a2f8ddf8525",
   "metadata": {},
   "outputs": [],
   "source": [
    "training_set = featureset[:10000]\n",
    "testing_set = featureset[10000:]"
   ]
  },
  {
   "cell_type": "code",
   "execution_count": 43,
   "id": "ac42db99-2b8a-4bdd-b4ce-a6eb7930e55d",
   "metadata": {},
   "outputs": [
    {
     "data": {
      "text/plain": [
       "10664"
      ]
     },
     "execution_count": 43,
     "metadata": {},
     "output_type": "execute_result"
    }
   ],
   "source": [
    "len(documents)"
   ]
  },
  {
   "cell_type": "code",
   "execution_count": 44,
   "id": "e16d050a-2fe8-48bc-b4ba-2c626cd1be42",
   "metadata": {},
   "outputs": [
    {
     "data": {
      "text/plain": [
       "10664"
      ]
     },
     "execution_count": 44,
     "metadata": {},
     "output_type": "execute_result"
    }
   ],
   "source": [
    " len(featureset)"
   ]
  },
  {
   "cell_type": "code",
   "execution_count": 45,
   "id": "04e2b4b6-e6ed-494e-831d-947ec591fcbc",
   "metadata": {},
   "outputs": [],
   "source": [
    "classifier = nltk.NaiveBayesClassifier.train(training_set)"
   ]
  },
  {
   "cell_type": "code",
   "execution_count": 46,
   "id": "d24776c8-e1e3-4fb7-960e-667d51eb74ac",
   "metadata": {},
   "outputs": [
    {
     "name": "stdout",
     "output_type": "stream",
     "text": [
      "Accuracy:  72.28915662650603\n"
     ]
    }
   ],
   "source": [
    "MNB_classifier = SklearnClassifier(MultinomialNB())\n",
    "MNB_classifier.train(training_set)\n",
    "print(\"Accuracy: \", nltk.classify.accuracy(MNB_classifier, testing_set) * 100)"
   ]
  },
  {
   "cell_type": "code",
   "execution_count": 47,
   "id": "0fd7984b-c6c3-4773-b925-1cc2acc2fc77",
   "metadata": {},
   "outputs": [
    {
     "name": "stdout",
     "output_type": "stream",
     "text": [
      "Accuracy:  78.3132530120482\n"
     ]
    }
   ],
   "source": [
    "BernoulliNB_classifier = SklearnClassifier(BernoulliNB())\n",
    "BernoulliNB_classifier.train(training_set)\n",
    "print(\"Accuracy: \", nltk.classify.accuracy(BernoulliNB_classifier, testing_set) * 100)"
   ]
  },
  {
   "cell_type": "code",
   "execution_count": 48,
   "id": "9c48a92b-d612-4358-a348-144799fb29fb",
   "metadata": {},
   "outputs": [],
   "source": [
    "from sklearn.linear_model import LogisticRegression, SGDClassifier\n",
    "from sklearn.svm import SVC, LinearSVC, NuSVC"
   ]
  },
  {
   "cell_type": "code",
   "execution_count": 49,
   "id": "07efc307-8233-4c49-a13d-7d68f9d75b45",
   "metadata": {},
   "outputs": [
    {
     "name": "stdout",
     "output_type": "stream",
     "text": [
      "Accuracy:  78.01204819277109\n"
     ]
    }
   ],
   "source": [
    "LogisticRegression_classifier = SklearnClassifier(LogisticRegression(max_iter=10000))\n",
    "LogisticRegression_classifier.train(training_set)\n",
    "print(\"Accuracy: \", nltk.classify.accuracy(LogisticRegression_classifier, testing_set) * 100)"
   ]
  },
  {
   "cell_type": "code",
   "execution_count": 50,
   "id": "4272c224-fb64-4a44-a8a0-42d356330868",
   "metadata": {},
   "outputs": [
    {
     "data": {
      "text/plain": [
       "'\\nSGDClassifier_classifier = SklearnClassifier(SGDClassifier())\\nSGDClassifier_classifier.train(training_set)\\nprint(\"Accuracy: \", nltk.classify.accuracy(SGDClassifier_classifier, testing_set) * 100)\\n'"
      ]
     },
     "execution_count": 50,
     "metadata": {},
     "output_type": "execute_result"
    }
   ],
   "source": [
    "\"\"\"\n",
    "SGDClassifier_classifier = SklearnClassifier(SGDClassifier())\n",
    "SGDClassifier_classifier.train(training_set)\n",
    "print(\"Accuracy: \", nltk.classify.accuracy(SGDClassifier_classifier, testing_set) * 100)\n",
    "\"\"\""
   ]
  },
  {
   "cell_type": "code",
   "execution_count": 51,
   "id": "9e5e0eb5-6fc7-4025-bfd1-57d757b0952e",
   "metadata": {},
   "outputs": [
    {
     "name": "stdout",
     "output_type": "stream",
     "text": [
      "Accuracy:  72.89156626506023\n"
     ]
    }
   ],
   "source": [
    "SVC_classifier = SklearnClassifier(SVC())\n",
    "SVC_classifier.train(training_set)\n",
    "print(\"Accuracy: \", nltk.classify.accuracy(SVC_classifier, testing_set) * 100)"
   ]
  },
  {
   "cell_type": "code",
   "execution_count": 52,
   "id": "08f277eb-16cf-4319-b64f-6976241e2286",
   "metadata": {},
   "outputs": [
    {
     "name": "stdout",
     "output_type": "stream",
     "text": [
      "Accuracy:  76.95783132530121\n"
     ]
    }
   ],
   "source": [
    "LinearSVC_classifier = SklearnClassifier(LinearSVC())\n",
    "LinearSVC_classifier.train(training_set)\n",
    "print(\"Accuracy: \", nltk.classify.accuracy(LinearSVC_classifier, testing_set) * 100)"
   ]
  },
  {
   "cell_type": "code",
   "execution_count": 53,
   "id": "e9cf231d-f4dc-4c58-9d3a-7f9688baee39",
   "metadata": {},
   "outputs": [
    {
     "name": "stdout",
     "output_type": "stream",
     "text": [
      "Accuracy:  76.05421686746988\n"
     ]
    }
   ],
   "source": [
    "NuSVC_classifier = SklearnClassifier(NuSVC())\n",
    "NuSVC_classifier.train(training_set)\n",
    "print(\"Accuracy: \", nltk.classify.accuracy(NuSVC_classifier, testing_set) * 100)"
   ]
  },
  {
   "cell_type": "code",
   "execution_count": 54,
   "id": "5a34c00e-3818-40f4-ad7b-9c9c3692da69",
   "metadata": {},
   "outputs": [],
   "source": [
    "voted_classifier = VoteClassifier(classifier, MNB_classifier, BernoulliNB_classifier, LogisticRegression_classifier, \n",
    "                                    SVC_classifier, LinearSVC_classifier, NuSVC_classifier)"
   ]
  },
  {
   "cell_type": "code",
   "execution_count": 55,
   "id": "8914fbf3-7795-48b8-a84c-0bf61cf83b39",
   "metadata": {},
   "outputs": [
    {
     "name": "stdout",
     "output_type": "stream",
     "text": [
      "pos 1.0\n",
      "neg 0.7142857142857143\n",
      "neg 1.0\n",
      "pos 1.0\n",
      "neg 0.5714285714285714\n"
     ]
    }
   ],
   "source": [
    "print(voted_classifier.classify(testing_set[0][0]), voted_classifier.confidence(testing_set[0][0]))\n",
    "print(voted_classifier.classify(testing_set[1][0]), voted_classifier.confidence(testing_set[1][0]))\n",
    "print(voted_classifier.classify(testing_set[2][0]), voted_classifier.confidence(testing_set[2][0]))\n",
    "print(voted_classifier.classify(testing_set[3][0]), voted_classifier.confidence(testing_set[3][0]))\n",
    "print(voted_classifier.classify(testing_set[4][0]), voted_classifier.confidence(testing_set[4][0]))"
   ]
  },
  {
   "cell_type": "code",
   "execution_count": 56,
   "id": "5cb2446e-d1ad-4eb8-bb76-818e547c541d",
   "metadata": {},
   "outputs": [],
   "source": [
    "save_classifier = open(\"models/voted_classifier_naivebayes.pickle\", mode=\"wb\")\n",
    "pickle.dump(voted_classifier, save_classifier)\n",
    "save_classifier.close()"
   ]
  },
  {
   "cell_type": "code",
   "execution_count": 54,
   "id": "ad1a94a6-0f01-4445-8047-e46c5beaf8d4",
   "metadata": {},
   "outputs": [],
   "source": [
    "documents = []\n",
    "all_words = []"
   ]
  },
  {
   "cell_type": "code",
   "execution_count": 50,
   "id": "71bb0bb1-5223-4a3e-be40-bed2fea288a4",
   "metadata": {},
   "outputs": [],
   "source": [
    "allowed_word_types = [\"J\"]\n",
    "\n",
    "for p in short_pos.split(\"\\n\"):\n",
    "    documents.append((p,\"pos\"))\n",
    "    words = word_tokenize(p)\n",
    "    pos = nltk.pos_tag(words)\n",
    "    for w in pos:\n",
    "        if w[1][0] in allowed_word_types:\n",
    "            all_words.append(w[0].lower())"
   ]
  },
  {
   "cell_type": "code",
   "execution_count": 51,
   "id": "2b0d8a97-3819-4f33-b1ca-0d15e01d0f16",
   "metadata": {},
   "outputs": [],
   "source": [
    "allowed_word_types = [\"J\"]\n",
    "\n",
    "for p in short_neg.split(\"\\n\"):\n",
    "    documents.append((p,\"neg\"))\n",
    "    words = word_tokenize(p)\n",
    "    pos = nltk.pos_tag(words)\n",
    "    for w in pos:\n",
    "        if w[1][0] in allowed_word_types:\n",
    "            all_words.append(w[0].lower())"
   ]
  },
  {
   "cell_type": "code",
   "execution_count": 66,
   "id": "89f3c83a-0a24-400a-8a16-d71f44df52df",
   "metadata": {},
   "outputs": [],
   "source": [
    "def sentiments(text):\n",
    "    fets = find_features(text)\n",
    "    \n",
    "    return voted_classifier.classify(fets)"
   ]
  },
  {
   "cell_type": "code",
   "execution_count": 53,
   "id": "df1c7a68-dbd2-496b-91d4-67cf62f864b9",
   "metadata": {},
   "outputs": [
    {
     "data": {
      "text/plain": [
       "[('21st', 'CD'),\n",
       " ('new', 'JJ'),\n",
       " ('conan', 'NN'),\n",
       " ('greater', 'JJR'),\n",
       " ('jean-claud', 'NN'),\n",
       " ('steven', 'NN'),\n",
       " ('elaborate', 'VBP'),\n",
       " ('huge', 'JJ'),\n",
       " ('expanded', 'VBD'),\n",
       " ('effective', 'JJ')]"
      ]
     },
     "execution_count": 53,
     "metadata": {},
     "output_type": "execute_result"
    }
   ],
   "source": [
    "nltk.pos_tag(all_words[:10])"
   ]
  }
 ],
 "metadata": {
  "kernelspec": {
   "display_name": "Python 3 (ipykernel)",
   "language": "python",
   "name": "python3"
  },
  "language_info": {
   "codemirror_mode": {
    "name": "ipython",
    "version": 3
   },
   "file_extension": ".py",
   "mimetype": "text/x-python",
   "name": "python",
   "nbconvert_exporter": "python",
   "pygments_lexer": "ipython3",
   "version": "3.9.12"
  }
 },
 "nbformat": 4,
 "nbformat_minor": 5
}
